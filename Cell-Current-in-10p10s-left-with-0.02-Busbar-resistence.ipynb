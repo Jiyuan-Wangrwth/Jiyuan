{
 "cells": [
  {
   "cell_type": "code",
   "execution_count": 1,
   "id": "b377301a",
   "metadata": {},
   "outputs": [
    {
     "data": {
      "application/vnd.jupyter.widget-view+json": {
       "model_id": "1bc887ae0c8c4145a09f4a43d4ae342d",
       "version_major": 2,
       "version_minor": 0
      },
      "text/plain": [
       "interactive(children=(IntSlider(value=0, description='Time Index:', max=840, step=5), Output()), _dom_classes=…"
      ]
     },
     "metadata": {},
     "output_type": "display_data"
    },
    {
     "data": {
      "application/vnd.jupyter.widget-view+json": {
       "model_id": "98a9b70952e7425193ac77576e4412a1",
       "version_major": 2,
       "version_minor": 0
      },
      "text/plain": [
       "Output()"
      ]
     },
     "metadata": {},
     "output_type": "display_data"
    }
   ],
   "source": [
    "import numpy as np\n",
    "import matplotlib.pyplot as plt\n",
    "import liionpack as lp\n",
    "import ipywidgets as widgets\n",
    "from IPython.display import display\n",
    "\n",
    "\n",
    "Np = 10\n",
    "Ns = 10\n",
    "file = np.load(f'output{Np}p{Ns}-left-L.npz')\n",
    "time = file['Time [s]']\n",
    "current = file['Cell current [A]']\n",
    "\n",
    "netlist = lp.setup_circuit(Np=Np, Ns=Ns)\n",
    "\n",
    "\n",
    "def plot_cell_data_image(netlist, data, tick_labels=True, figsize=(15, 6)):\n",
    "    V_map = netlist[\"desc\"].str.find(\"V\") > -1\n",
    "    vlist = netlist[V_map]\n",
    "    n1x = np.unique(vlist[\"node1_x\"])\n",
    "    n1y = np.unique(vlist[\"node1_y\"])\n",
    "    Nx = len(n1x)\n",
    "    Ny = len(n1y)\n",
    "    for ix in range(Nx):\n",
    "        vlist.loc[vlist[\"node1_x\"] == n1x[ix], (\"node1_x\")] = ix\n",
    "    for iy in range(Ny):\n",
    "        vlist.loc[vlist[\"node1_y\"] == n1y[iy], (\"node1_y\")] = iy\n",
    "\n",
    "    im = np.ones([Nx, Ny])\n",
    "    im[np.array(vlist[\"node1_x\"]), np.array(vlist[\"node1_y\"])] = data\n",
    "\n",
    "    cmap = plt.cm.cool\n",
    "    plt.figure(figsize=figsize)\n",
    "    ax = plt.gca()\n",
    "    mappable = ax.imshow(im.T, cmap=cmap)\n",
    "\n",
    "    ax.set_xticks(np.arange(0, Nx, 1))\n",
    "    ax.set_yticks(np.arange(0, Ny, 1))\n",
    "    if tick_labels:\n",
    "        ax.set_xticklabels(np.arange(1, Nx+1))\n",
    "        ax.set_yticklabels(np.arange(1, Ny+1))\n",
    "    else:\n",
    "        ax.set_xticklabels([])\n",
    "        ax.set_yticklabels([])\n",
    "    ax.set_xticks(np.arange(-0.5, Nx, 1), minor=True)\n",
    "    ax.set_yticks(np.arange(-0.5, Ny, 1), minor=True)\n",
    "    ax.grid(which=\"minor\", color=\"w\", linestyle=\"-\", linewidth=1)\n",
    "    plt.colorbar(mappable)\n",
    "    plt.tight_layout()\n",
    "output = widgets.Output()\n",
    "\n",
    "\n",
    "def update_plot(t_index):\n",
    "    current_data = current[int(t_index / time_interval)]\n",
    "    with output:\n",
    "        output.clear_output(wait=True)\n",
    "        plot_cell_data_image(netlist, current_data, tick_labels=False)\n",
    "        plt.show()\n",
    "time_interval = 5\n",
    "time_slider = widgets.IntSlider(value=0, min=0, max=time[-1], step=time_interval, description='Time Index:')\n",
    "interactive_plot = widgets.interactive(update_plot, t_index=time_slider)\n",
    "\n",
    "display(interactive_plot, output)\n"
   ]
  },
  {
   "cell_type": "code",
   "execution_count": null,
   "id": "18f71f8c",
   "metadata": {},
   "outputs": [],
   "source": []
  }
 ],
 "metadata": {
  "kernelspec": {
   "display_name": "Python 3 (ipykernel)",
   "language": "python",
   "name": "python3"
  },
  "language_info": {
   "codemirror_mode": {
    "name": "ipython",
    "version": 3
   },
   "file_extension": ".py",
   "mimetype": "text/x-python",
   "name": "python",
   "nbconvert_exporter": "python",
   "pygments_lexer": "ipython3",
   "version": "3.11.5"
  }
 },
 "nbformat": 4,
 "nbformat_minor": 5
}
